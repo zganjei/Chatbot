{
  "nbformat": 4,
  "nbformat_minor": 0,
  "metadata": {
    "colab": {
      "provenance": [],
      "authorship_tag": "ABX9TyNo6a5PpiwXvBFGv94xjiww",
      "include_colab_link": true
    },
    "kernelspec": {
      "name": "python3",
      "display_name": "Python 3"
    },
    "language_info": {
      "name": "python"
    }
  },
  "cells": [
    {
      "cell_type": "markdown",
      "metadata": {
        "id": "view-in-github",
        "colab_type": "text"
      },
      "source": [
        "<a href=\"https://colab.research.google.com/github/zganjei/Chatbot/blob/main/chatbot_llama_fastapi_dash.ipynb\" target=\"_parent\"><img src=\"https://colab.research.google.com/assets/colab-badge.svg\" alt=\"Open In Colab\"/></a>"
      ]
    },
    {
      "cell_type": "markdown",
      "source": [
        "# Create chatbot for customer service using RAG (Retrieval-Augmented Generation)\n",
        "\n",
        "## Installing required libraries"
      ],
      "metadata": {
        "id": "9r8VgQXClAEk"
      }
    },
    {
      "cell_type": "code",
      "execution_count": 2,
      "metadata": {
        "id": "KgSlc3P3mq_p"
      },
      "outputs": [],
      "source": [
        "%%capture\n",
        "!pip install openai\n",
        "!pip install llama-index\n",
        "!pip install --user pypdf\n",
        "!pip install --user sentence_transformers\n",
        "!pip install fastapi uvicorn\n",
        "!pip install dash"
      ]
    },
    {
      "cell_type": "markdown",
      "source": [
        "## Setup OpenAI API key\n",
        "\n"
      ],
      "metadata": {
        "id": "tKYd2prcblVu"
      }
    },
    {
      "cell_type": "code",
      "source": [
        "import openai\n",
        "from llama_index.core import VectorStoreIndex, SimpleDirectoryReader, StorageContext\n",
        "from google.colab import userdata\n",
        "api_key = userdata.get('openai.api_key')\n",
        "if api_key:\n",
        "  print(\"API key: \"+api_key[:10])\n",
        "else:\n",
        "  print(\"API key not found!\")\n",
        "\n",
        "openai.api_key = api_key"
      ],
      "metadata": {
        "colab": {
          "base_uri": "https://localhost:8080/"
        },
        "id": "CJzdcWgoeRUx",
        "outputId": "90e21ba2-91ef-4872-8368-fe1f01a99c5f"
      },
      "execution_count": 3,
      "outputs": [
        {
          "output_type": "stream",
          "name": "stdout",
          "text": [
            "API key: sk-proj-5p\n"
          ]
        }
      ]
    },
    {
      "cell_type": "markdown",
      "source": [
        "# Create Index  for the document having FAQ info about the company\n",
        "\n",
        "Using LlamaIndex\n",
        "\n",
        "Mount Google Drive that includes the file of FAQs"
      ],
      "metadata": {
        "id": "q_wgU15pi_dB"
      }
    },
    {
      "cell_type": "code",
      "source": [
        "import os\n",
        "from google.colab import drive\n",
        "\n",
        "drive.mount('/content/drive')\n",
        "path = \"/content/drive/MyDrive/colab\""
      ],
      "metadata": {
        "colab": {
          "base_uri": "https://localhost:8080/"
        },
        "id": "U0BstsuzwggE",
        "outputId": "54eb5045-1faf-4bb0-845a-c16c327afd9e"
      },
      "execution_count": 4,
      "outputs": [
        {
          "output_type": "stream",
          "name": "stdout",
          "text": [
            "Mounted at /content/drive\n"
          ]
        }
      ]
    },
    {
      "cell_type": "markdown",
      "source": [
        "Index the file and save the index for later use in folder ml_index\n"
      ],
      "metadata": {
        "id": "J60FF14gwVOo"
      }
    },
    {
      "cell_type": "code",
      "source": [
        "documents = SimpleDirectoryReader(path).load_data()\n",
        "index = VectorStoreIndex.from_documents(documents)\n",
        "storage_context = index.storage_context.persist(\"ml_index\")"
      ],
      "metadata": {
        "id": "fUque8lQcqtQ"
      },
      "execution_count": 5,
      "outputs": []
    },
    {
      "cell_type": "code",
      "source": [
        "# storage_context = StorageContext.from_defaults(persist_dir = \"ml_index\")\n",
        "# index = load_index_from_storage(storage_context)\n",
        "#query engine\n",
        "engine = index.as_query_engine()\n",
        "#ask a basic question\n",
        "result = engine.query(\"what is the file about\")\n",
        "print(result)"
      ],
      "metadata": {
        "id": "UfS4-F8Lg9qv",
        "colab": {
          "base_uri": "https://localhost:8080/"
        },
        "outputId": "6743bdf6-3f91-4274-b4dc-c5201cd17ac1"
      },
      "execution_count": 6,
      "outputs": [
        {
          "output_type": "stream",
          "name": "stdout",
          "text": [
            "The file is about a user guide for installing acrylic nails at home, including the materials needed and a step-by-step process for preparing the nails and applying the nail tips.\n"
          ]
        }
      ]
    },
    {
      "cell_type": "markdown",
      "source": [
        "# Create a REST API using FastAPI"
      ],
      "metadata": {
        "id": "U9sUYhM9jLxB"
      }
    },
    {
      "cell_type": "code",
      "source": [
        "%%capture\n",
        "!pip install fastapi uvicorn"
      ],
      "metadata": {
        "id": "Y_KuKhaoiY_x"
      },
      "execution_count": 7,
      "outputs": []
    },
    {
      "cell_type": "code",
      "source": [
        "from fastapi import FastAPI\n",
        "from pydantic import BaseModel\n",
        "import nest_asyncio\n",
        "\n",
        "class Item(BaseModel):\n",
        "  question:str\n",
        "\n",
        "app = FastAPI()\n",
        "@app.post(\"/\")\n",
        "def query(item: Item):\n",
        "  result = engine.query(item.question)\n",
        "  return(result)\n",
        "\n",
        "nest_asyncio.apply()"
      ],
      "metadata": {
        "id": "7LDpD0dTjVyQ"
      },
      "execution_count": 8,
      "outputs": []
    },
    {
      "cell_type": "markdown",
      "source": [
        "Use Uvicorn to run the API as a server"
      ],
      "metadata": {
        "id": "AhqFIBP1j6iq"
      }
    },
    {
      "cell_type": "code",
      "source": [
        "import uvicorn\n",
        "import threading\n",
        "\n",
        "def run():\n",
        "  uvicorn.run(app,host = \"0.0.0.0\", port = 8000)\n",
        "\n",
        "threading.Thread(target=run).start()"
      ],
      "metadata": {
        "id": "0sk-UrvWj92R"
      },
      "execution_count": 9,
      "outputs": []
    },
    {
      "cell_type": "markdown",
      "source": [
        "# Test the API\n",
        "\n",
        "Client library"
      ],
      "metadata": {
        "id": "EnlUhJqAzqB5"
      }
    },
    {
      "cell_type": "code",
      "source": [
        "import requests\n",
        "\n",
        "def send_question_to_api(q):\n",
        "    url = \"http://0.0.0.0:8000\"\n",
        "    data = {\"question\": q}\n",
        "\n",
        "    try:\n",
        "        response = requests.post(url, json=data)\n",
        "        response.raise_for_status()  # Raise an exception for bad status codes (4xx or 5xx)\n",
        "\n",
        "        result = response.json()[\"response\"]\n",
        "        return result\n",
        "\n",
        "    except requests.exceptions.RequestException as e:\n",
        "        print(f\"Error: {e}\")\n",
        "        return None\n",
        "\n",
        "# Example usage:\n",
        "question = \"tell me about the bussiness in 20 words\"\n",
        "api_response = send_question_to_api(question)\n",
        "\n",
        "if api_response:\n",
        "    print(f\"The answer to {question} is: {api_response}\")"
      ],
      "metadata": {
        "colab": {
          "base_uri": "https://localhost:8080/"
        },
        "id": "-_xgXCjwlg_x",
        "outputId": "202d1807-6173-4f73-ab65-2261621f3121"
      },
      "execution_count": 10,
      "outputs": [
        {
          "output_type": "stream",
          "name": "stdout",
          "text": [
            "Error: HTTPConnectionPool(host='0.0.0.0', port=8000): Max retries exceeded with url: / (Caused by NewConnectionError('<urllib3.connection.HTTPConnection object at 0x7b69ebe305d0>: Failed to establish a new connection: [Errno 111] Connection refused'))\n"
          ]
        }
      ]
    },
    {
      "cell_type": "markdown",
      "source": [
        "# Create user interface with Dash"
      ],
      "metadata": {
        "id": "kL-QW9fh10X1"
      }
    },
    {
      "cell_type": "code",
      "source": [
        "import random\n",
        "import dash\n",
        "from dash import Dash, dcc, html, callback, State, Output, Input\n",
        "\n",
        "app = Dash(__name__)\n",
        "url = \"http://0.0.0.0:8000\"\n",
        "app.layout = html.Div(children = [\n",
        "    html.H1(children=\"Custer Service Chatbot for NailPro Supply\"),\n",
        "    html.Div(id=\"output-conversation\",\n",
        "             style= {\"width\":\"90%\",\n",
        "                     \"height\":\"80vh\",\n",
        "                     \"margin\" : \"auto\",\n",
        "                     \"overflow-y\":\"auto\"}),\n",
        "    html.Div(children = [\n",
        "        dcc.Textarea(id = \"input-text\", placeholder = \"Type your question here ...\",\n",
        "                     style = {\"width\":\"100%\"}),\n",
        "        html.Button(\"Submit\", id = \"input-submit\", n_clicks = 0)\n",
        "        ],\n",
        "       style = {\"width\":\"90%\", \"margin\" : \"auto\"}),\n",
        "    dcc.Store(id=\"store-chat\",data = \"\")\n",
        "    ])\n",
        "\n",
        "@callback(\n",
        "    [Output(\"store-chat\",\"data\"), Output(\"input-text\",\"value\")],\n",
        "    [Input(\"input-submit\",\"n_clicks\")],\n",
        "    [State(\"input-text\",\"value\"), State(\"store-chat\",\"data\")]\n",
        ")\n",
        "\n",
        "def query_chatbot(n_clicks,input_value,chat):\n",
        "  if n_clicks == 0:  # Ensure initial state works\n",
        "        return \"\", \"\"\n",
        "  if input_value ==\"\" or input_value is None:\n",
        "    return chat, \"\"\n",
        "  chat = chat or \"\"\n",
        "  chat += f\"You: {input_value}<split>Bot: \"\n",
        "  query = chat.replace(\"<split>\",\"\\n\").replace(\"Bot:\", \"\").replace(\"You:\",\"\")\n",
        "  result = requests.post(url, json = {\"question\":query})\n",
        "\n",
        "  if result.status_code ==200:\n",
        "    response = result.json()[\"response\"]\n",
        "  else:\n",
        "    response = f\"Error {result.reason}\"\n",
        "  chat += f\"{response}<split>\"\n",
        "  return chat, \"\"\n",
        "\n",
        "@app.callback(\n",
        "    Output(\"output-conversation\",\"children\"),\n",
        "    Input(\"store-chat\",\"data\")\n",
        ")\n",
        "def update_conversation(conversation):\n",
        "  conversation = conversation or \"\"\n",
        "  return [\n",
        "      html.Div(message,\n",
        "               style = {\"max-width\":\"60%\",\n",
        "                        \"width\":\"max-content\",\n",
        "                        \"padding\":\"10px\"})\n",
        "      for message in conversation.split(\"<split>\")\n",
        "  ]\n",
        "\n",
        "if __name__ == \"__main__\":\n",
        "  app.run_server(mode = \"jupyterlab\",port = 8050, debug=True)\n"
      ],
      "metadata": {
        "colab": {
          "base_uri": "https://localhost:8080/",
          "height": 741
        },
        "id": "nhszczHA21CY",
        "outputId": "b1fad5bd-b12a-4be3-e7c8-cbe3623ffb55"
      },
      "execution_count": 11,
      "outputs": [
        {
          "output_type": "stream",
          "name": "stderr",
          "text": [
            "INFO:     Started server process [389]\n",
            "INFO:     Waiting for application startup.\n",
            "INFO:     Application startup complete.\n",
            "INFO:     Uvicorn running on http://0.0.0.0:8000 (Press CTRL+C to quit)\n"
          ]
        },
        {
          "output_type": "display_data",
          "data": {
            "text/plain": [
              "<IPython.core.display.Javascript object>"
            ],
            "application/javascript": [
              "(async (port, path, width, height, cache, element) => {\n",
              "    if (!google.colab.kernel.accessAllowed && !cache) {\n",
              "      return;\n",
              "    }\n",
              "    element.appendChild(document.createTextNode(''));\n",
              "    const url = await google.colab.kernel.proxyPort(port, {cache});\n",
              "    const iframe = document.createElement('iframe');\n",
              "    iframe.src = new URL(path, url).toString();\n",
              "    iframe.height = height;\n",
              "    iframe.width = width;\n",
              "    iframe.style.border = 0;\n",
              "    iframe.allow = [\n",
              "        'accelerometer',\n",
              "        'autoplay',\n",
              "        'camera',\n",
              "        'clipboard-read',\n",
              "        'clipboard-write',\n",
              "        'gyroscope',\n",
              "        'magnetometer',\n",
              "        'microphone',\n",
              "        'serial',\n",
              "        'usb',\n",
              "        'xr-spatial-tracking',\n",
              "    ].join('; ');\n",
              "    element.appendChild(iframe);\n",
              "  })(8050, \"/\", \"100%\", 650, false, window.element)"
            ]
          },
          "metadata": {}
        }
      ]
    },
    {
      "cell_type": "code",
      "source": [],
      "metadata": {
        "id": "X1q44tTZGxP3"
      },
      "execution_count": null,
      "outputs": []
    }
  ]
}